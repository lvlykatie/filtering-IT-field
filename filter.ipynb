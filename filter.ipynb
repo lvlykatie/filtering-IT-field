{
 "cells": [
  {
   "cell_type": "code",
   "execution_count": 1,
   "metadata": {},
   "outputs": [
    {
     "name": "stdout",
     "output_type": "stream",
     "text": [
      "Collecting git+https://github.com/piratos/llmfilters\n",
      "  Cloning https://github.com/piratos/llmfilters to c:\\users\\admin\\appdata\\local\\temp\\pip-req-build-f_tp3rby\n",
      "  Resolved https://github.com/piratos/llmfilters to commit 9007c80caac6dcc8fbddf3fec53f409c5ee99d73\n"
     ]
    },
    {
     "name": "stderr",
     "output_type": "stream",
     "text": [
      "  Running command git clone --filter=blob:none --quiet https://github.com/piratos/llmfilters 'C:\\Users\\Admin\\AppData\\Local\\Temp\\pip-req-build-f_tp3rby'\n",
      "ERROR: git+https://github.com/piratos/llmfilters does not appear to be a Python project: neither 'setup.py' nor 'pyproject.toml' found.\n"
     ]
    }
   ],
   "source": [
    "!pip install git+https://github.com/piratos/llmfilters\n"
   ]
  }
 ],
 "metadata": {
  "kernelspec": {
   "display_name": "Python 3",
   "language": "python",
   "name": "python3"
  },
  "language_info": {
   "codemirror_mode": {
    "name": "ipython",
    "version": 3
   },
   "file_extension": ".py",
   "mimetype": "text/x-python",
   "name": "python",
   "nbconvert_exporter": "python",
   "pygments_lexer": "ipython3",
   "version": "3.11.9"
  }
 },
 "nbformat": 4,
 "nbformat_minor": 2
}
